{
 "cells": [
  {
   "cell_type": "code",
   "execution_count": 1,
   "id": "inclusive-router",
   "metadata": {},
   "outputs": [],
   "source": [
    "%matplotlib inline\n",
    "import numpy as np\n",
    "import pdb\n",
    "import matplotlib.pyplot as plt\n",
    "import glob\n",
    "from matplotlib.ticker import MultipleLocator\n",
    "from sklearn.model_selection import train_test_split\n",
    "import sklearn.datasets as datasets\n",
    "from sklearn.ensemble import RandomForestClassifier\n",
    "from sklearn import tree\n",
    "import copy\n",
    "import pandas as pd\n",
    "from sklearn.model_selection import KFold\n",
    "from sklearn import metrics\n",
    "import math\n",
    "np.random.seed(0)"
   ]
  },
  {
   "cell_type": "code",
   "execution_count": 2,
   "id": "burning-ukraine",
   "metadata": {},
   "outputs": [],
   "source": [
    "df = pd.read_csv('data.csv')\n",
    "df.loc[(df['status'] == 'Pass'),'status']=0\n",
    "df.loc[(df['status'] == 'Killed'),'status']=1\n",
    "df.loc[(df['status'] == 'Failed'),'status']=1\n",
    "df['status'].value_counts()\n",
    "vc_list = {}\n",
    "unique_vc = df['vc'].unique()\n",
    "for i in range(15):\n",
    "    vc_list[unique_vc[i]] = f'vc{i}'\n",
    "for key,val in vc_list.items():\n",
    "    df.loc[(df['vc'] == key),'vc']=val\n",
    "# note: need to add weights for imbalanced data"
   ]
  },
  {
   "cell_type": "code",
   "execution_count": 3,
   "id": "german-intersection",
   "metadata": {},
   "outputs": [
    {
     "data": {
      "text/plain": [
       "Index(['Unnamed: 0', 'vc', 'jobid', 'num_attempts', 'usr', 'status',\n",
       "       'num_gpus', 'run_time', 'gpu_util_mean', 'gpu_util_std', 'gpu_util_min',\n",
       "       'gpu_util_max', 'cpu_util', 'mem_util', 'job_index', 'gpu_mem'],\n",
       "      dtype='object')"
      ]
     },
     "execution_count": 3,
     "metadata": {},
     "output_type": "execute_result"
    }
   ],
   "source": [
    "df.columns"
   ]
  },
  {
   "cell_type": "code",
   "execution_count": 4,
   "id": "shaped-glasgow",
   "metadata": {},
   "outputs": [
    {
     "data": {
      "text/plain": [
       "Index(['num_attempts', 'status', 'num_gpus', 'run_time', 'gpu_util_mean',\n",
       "       'gpu_util_std', 'gpu_util_min', 'gpu_util_max', 'cpu_util', 'mem_util',\n",
       "       'vc0', 'vc1', 'vc10', 'vc11', 'vc12', 'vc13', 'vc14', 'vc2', 'vc3',\n",
       "       'vc4', 'vc5', 'vc6', 'vc7', 'vc8', 'vc9'],\n",
       "      dtype='object')"
      ]
     },
     "execution_count": 4,
     "metadata": {},
     "output_type": "execute_result"
    }
   ],
   "source": [
    "occ_dummies = pd.get_dummies(df['vc'], drop_first=False)\n",
    "new_df = pd.concat([df.drop('vc', axis=1), occ_dummies], axis=1)\n",
    "new_df = new_df.drop(columns=['Unnamed: 0', 'jobid', 'usr', 'job_index', 'gpu_mem'])\n",
    "new_df.columns"
   ]
  },
  {
   "cell_type": "code",
   "execution_count": 5,
   "id": "competitive-knock",
   "metadata": {},
   "outputs": [],
   "source": [
    "kf = KFold(n_splits=5, shuffle=True)\n",
    "Y = new_df['status'].to_numpy()\n",
    "X = new_df.drop(columns=['status']).to_numpy()\n",
    "# calculate weights\n",
    "row_num, col_num = X.shape\n",
    "NaN = np.zeros((row_num,1))\n",
    "for row in range(row_num):\n",
    "    check = np.sum(X[row,:])\n",
    "    has_nan = np.isnan(check)\n",
    "    if has_nan:\n",
    "        NaN[row,0] = 1\n",
    "        for col in range(col_num):\n",
    "            is_nan = np.isnan(X[row,col])\n",
    "            if is_nan:\n",
    "                X[row,col] = 0\n",
    "    else:\n",
    "        NaN[row,0] = 1\n",
    "\n",
    "new_X = np.concatenate((X, NaN), axis=1)\n",
    "unique, counts = np.unique(Y, return_counts=True)\n",
    "weights = 1/counts * counts[0] # inversely proportional to number of counts\n",
    "weight_dict = {0: weights[0], 1: weights[1]}#, 2: weights[2]}"
   ]
  },
  {
   "cell_type": "code",
   "execution_count": 6,
   "id": "fundamental-belize",
   "metadata": {},
   "outputs": [
    {
     "data": {
      "text/plain": [
       "(array([-1.00000000e+00,  0.00000000e+00,  9.61425767e-06, ...,\n",
       "         8.64576000e+04,  8.64578667e+04,  8.66025167e+04]),\n",
       " array([  12767, 1795448,       1, ...,       1,       1,       1]))"
      ]
     },
     "execution_count": 6,
     "metadata": {},
     "output_type": "execute_result"
    }
   ],
   "source": [
    "np.unique(X, return_counts=True)"
   ]
  },
  {
   "cell_type": "code",
   "execution_count": 10,
   "id": "unusual-hearing",
   "metadata": {},
   "outputs": [
    {
     "name": "stdout",
     "output_type": "stream",
     "text": [
      "train_acc: 86.40508396826995%, test_acc: 85.46430968896846%\n",
      "train_acc: 85.95195739491379%, test_acc: 84.9228015215932%\n",
      "train_acc: 85.75280546884615%, test_acc: 84.94517789214589%\n",
      "train_acc: 85.81769766947494%, test_acc: 84.74379055717162%\n",
      "train_acc: 85.91631237413291%, test_acc: 85.54421768707483%\n"
     ]
    },
    {
     "data": {
      "text/plain": [
       "[<matplotlib.lines.Line2D at 0x7f6d036d7a50>]"
      ]
     },
     "execution_count": 10,
     "metadata": {},
     "output_type": "execute_result"
    },
    {
     "data": {
      "image/png": "[encoded data removed]",
      "text/plain": [
       "<Figure size 360x216 with 1 Axes>"
      ]
     },
     "metadata": {
      "needs_background": "light"
     },
     "output_type": "display_data"
    }
   ],
   "source": [
    "auc_all = []\n",
    "tprs = []\n",
    "mean_fpr = np.linspace(0, 1, 100)\n",
    "for train_index, test_index in kf.split(new_X):\n",
    "    X_train, X_test = new_X[train_index], new_X[test_index]\n",
    "    y_train, y_test = Y[train_index].astype('int'), Y[test_index].astype('int')\n",
    "    clf = RandomForestClassifier(criterion='gini', class_weight=weight_dict, max_depth=10, n_jobs=-1, n_estimators=100)\n",
    "    clf = clf.fit(X_train, y_train)\n",
    "    predict = clf.predict(X_train)\n",
    "    train_acc = np.count_nonzero(predict==y_train) / len(y_train) * 100\n",
    "    predict = clf.predict(X_test)\n",
    "    val_acc = np.count_nonzero(predict==y_test) / len(y_test) * 100\n",
    "    fpr, tpr, thresholds = metrics.roc_curve(y_test, predict)\n",
    "    auc = metrics.auc(fpr, tpr)\n",
    "    auc_all.append(auc)\n",
    "    interp_tpr = np.interp(mean_fpr, fpr, tpr)\n",
    "    interp_tpr[0] = 0.0\n",
    "    tprs.append(interp_tpr)\n",
    "    print(f'train_acc: {train_acc}%, test_acc: {val_acc}%')\n",
    "auc_mean = round(np.mean(auc_all),2)\n",
    "auc_std = round(np.std(auc_all) / math.sqrt(5),3)\n",
    "mean_tpr = np.mean(tprs, axis=0)\n",
    "fig, axs = plt.subplots(1, 1, gridspec_kw={'hspace': 0.1, 'wspace': 0.2, 'bottom': 0.13, \n",
    "                                    'top': 0.9, 'right':0.995, 'left':0.17}, figsize=(5,3))\n",
    "axs.plot(mean_fpr, mean_tpr, \n",
    "         label=f'mean:{auc_mean}\\n confi. interval: {auc_std}', lw=2.5, color='orangered')"
   ]
  },
  {
   "cell_type": "code",
   "execution_count": 8,
   "id": "theoretical-samuel",
   "metadata": {},
   "outputs": [
    {
     "data": {
      "text/plain": [
       "(14628, 1107, 2163, 4446)"
      ]
     },
     "execution_count": 8,
     "metadata": {},
     "output_type": "execute_result"
    }
   ],
   "source": [
    "from sklearn.metrics import confusion_matrix\n",
    "tn, fp, fn, tp = confusion_matrix(predict, y_test).ravel()\n",
    "tn, fp, fn, tp"
   ]
  },
  {
   "cell_type": "code",
   "execution_count": 11,
   "id": "animal-lightning",
   "metadata": {},
   "outputs": [],
   "source": [
    "axs.set_title('ROC and AUC mean/std (marked in legend)')\n",
    "axs.grid(which='major', axis='both', ls='dashed', zorder=0)\n",
    "axs.set_xlabel('FPR')\n",
    "axs.legend()\n",
    "# axs[0].set_title('Training Acc.')\n",
    "# axs[1].set_title('Testing Acc.')\n",
    "axs.set_ylabel('TPR')\n",
    "fig.savefig(f'roc_rf.png', bbox_inches='tight')"
   ]
  },
  {
   "cell_type": "code",
   "execution_count": null,
   "id": "killing-interference",
   "metadata": {},
   "outputs": [],
   "source": []
  }
 ],
 "metadata": {
  "kernelspec": {
   "display_name": "Python 3",
   "language": "python",
   "name": "python3"
  },
  "language_info": {
   "codemirror_mode": {
    "name": "ipython",
    "version": 3
   },
   "file_extension": ".py",
   "mimetype": "text/x-python",
   "name": "python",
   "nbconvert_exporter": "python",
   "pygments_lexer": "ipython3",
   "version": "3.7.9"
  }
 },
 "nbformat": 4,
 "nbformat_minor": 5
}
