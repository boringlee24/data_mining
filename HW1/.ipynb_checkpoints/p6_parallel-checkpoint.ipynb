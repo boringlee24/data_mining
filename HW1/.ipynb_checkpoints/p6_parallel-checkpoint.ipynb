{
 "cells": [
  {
   "cell_type": "code",
   "execution_count": 1,
   "id": "selected-finding",
   "metadata": {},
   "outputs": [],
   "source": [
    "%matplotlib inline\n",
    "import numpy as np\n",
    "import pdb\n",
    "import sklearn.metrics.pairwise as distance\n",
    "import matplotlib\n",
    "#matplotlib.use('tkAgg')\n",
    "import matplotlib.pyplot as plt\n",
    "import glob\n",
    "import sys\n",
    "from matplotlib.ticker import MultipleLocator\n",
    "import math\n",
    "import pandas as pd\n",
    "import time\n",
    "from joblib import Parallel, delayed\n",
    "import os\n",
    "usable_cores = os.sched_getaffinity(0)"
   ]
  },
  {
   "cell_type": "code",
   "execution_count": 2,
   "id": "downtown-oakland",
   "metadata": {},
   "outputs": [
    {
     "data": {
      "text/html": [
       "<div>\n",
       "<style scoped>\n",
       "    .dataframe tbody tr th:only-of-type {\n",
       "        vertical-align: middle;\n",
       "    }\n",
       "\n",
       "    .dataframe tbody tr th {\n",
       "        vertical-align: top;\n",
       "    }\n",
       "\n",
       "    .dataframe thead th {\n",
       "        text-align: right;\n",
       "    }\n",
       "</style>\n",
       "<table border=\"1\" class=\"dataframe\">\n",
       "  <thead>\n",
       "    <tr style=\"text-align: right;\">\n",
       "      <th></th>\n",
       "      <th>user_id</th>\n",
       "      <th>movie_id</th>\n",
       "      <th>rating</th>\n",
       "      <th>time</th>\n",
       "    </tr>\n",
       "  </thead>\n",
       "  <tbody>\n",
       "    <tr>\n",
       "      <th>0</th>\n",
       "      <td>259</td>\n",
       "      <td>255</td>\n",
       "      <td>4</td>\n",
       "      <td>874724710</td>\n",
       "    </tr>\n",
       "    <tr>\n",
       "      <th>1</th>\n",
       "      <td>259</td>\n",
       "      <td>286</td>\n",
       "      <td>4</td>\n",
       "      <td>874724727</td>\n",
       "    </tr>\n",
       "    <tr>\n",
       "      <th>2</th>\n",
       "      <td>259</td>\n",
       "      <td>298</td>\n",
       "      <td>4</td>\n",
       "      <td>874724754</td>\n",
       "    </tr>\n",
       "    <tr>\n",
       "      <th>3</th>\n",
       "      <td>259</td>\n",
       "      <td>185</td>\n",
       "      <td>4</td>\n",
       "      <td>874724781</td>\n",
       "    </tr>\n",
       "    <tr>\n",
       "      <th>4</th>\n",
       "      <td>259</td>\n",
       "      <td>173</td>\n",
       "      <td>4</td>\n",
       "      <td>874724843</td>\n",
       "    </tr>\n",
       "    <tr>\n",
       "      <th>...</th>\n",
       "      <td>...</td>\n",
       "      <td>...</td>\n",
       "      <td>...</td>\n",
       "      <td>...</td>\n",
       "    </tr>\n",
       "    <tr>\n",
       "      <th>99995</th>\n",
       "      <td>729</td>\n",
       "      <td>689</td>\n",
       "      <td>4</td>\n",
       "      <td>893286638</td>\n",
       "    </tr>\n",
       "    <tr>\n",
       "      <th>99996</th>\n",
       "      <td>729</td>\n",
       "      <td>313</td>\n",
       "      <td>3</td>\n",
       "      <td>893286638</td>\n",
       "    </tr>\n",
       "    <tr>\n",
       "      <th>99997</th>\n",
       "      <td>729</td>\n",
       "      <td>328</td>\n",
       "      <td>3</td>\n",
       "      <td>893286638</td>\n",
       "    </tr>\n",
       "    <tr>\n",
       "      <th>99998</th>\n",
       "      <td>729</td>\n",
       "      <td>748</td>\n",
       "      <td>4</td>\n",
       "      <td>893286638</td>\n",
       "    </tr>\n",
       "    <tr>\n",
       "      <th>99999</th>\n",
       "      <td>729</td>\n",
       "      <td>272</td>\n",
       "      <td>4</td>\n",
       "      <td>893286638</td>\n",
       "    </tr>\n",
       "  </tbody>\n",
       "</table>\n",
       "<p>100000 rows × 4 columns</p>\n",
       "</div>"
      ],
      "text/plain": [
       "       user_id  movie_id  rating       time\n",
       "0          259       255       4  874724710\n",
       "1          259       286       4  874724727\n",
       "2          259       298       4  874724754\n",
       "3          259       185       4  874724781\n",
       "4          259       173       4  874724843\n",
       "...        ...       ...     ...        ...\n",
       "99995      729       689       4  893286638\n",
       "99996      729       313       3  893286638\n",
       "99997      729       328       3  893286638\n",
       "99998      729       748       4  893286638\n",
       "99999      729       272       4  893286638\n",
       "\n",
       "[100000 rows x 4 columns]"
      ]
     },
     "execution_count": 2,
     "metadata": {},
     "output_type": "execute_result"
    }
   ],
   "source": [
    "read = pd.read_csv('u.data', delim_whitespace=True, names=['user_id', 'movie_id', 'rating', 'time'])\n",
    "read = read.sort_values('time').reset_index(drop=True)\n",
    "read"
   ]
  },
  {
   "cell_type": "code",
   "execution_count": 3,
   "id": "robust-tourist",
   "metadata": {},
   "outputs": [],
   "source": [
    "class Tables:\n",
    "    def __init__(self, uid, vector):\n",
    "        self.uid = uid\n",
    "        self.vector = vector\n",
    "class MADs:\n",
    "    def __init__(self, k, value):\n",
    "        self.k = k\n",
    "        self.value = value"
   ]
  },
  {
   "cell_type": "code",
   "execution_count": 4,
   "id": "mental-medicine",
   "metadata": {},
   "outputs": [
    {
     "name": "stdout",
     "output_type": "stream",
     "text": [
      "888259984\n"
     ]
    }
   ],
   "source": [
    "# first we use a 75%-25% train-test split\n",
    "tau_row = read.loc[75000]\n",
    "tau = tau_row.time\n",
    "print(tau)\n",
    "\n",
    "df_train = read[read['time'] <= tau]\n",
    "df_test = read[read['time'] > tau]\n",
    "# now construct the embedding table from training data\n",
    "unique_id = df_train['user_id'].unique()\n",
    "unique_movie = read['movie_id'].unique()\n",
    "\n",
    "def table_loop(uid):\n",
    "    vector = []\n",
    "    for movie in unique_movie:\n",
    "        check = df_train.loc[(df_train['user_id'] == uid) & (df_train['movie_id'] == movie)]\n",
    "        if len(check) > 0:\n",
    "            if check['rating'].iloc[0] >= 3:\n",
    "                vector.append(1)\n",
    "            else:\n",
    "                vector.append(0)\n",
    "        else:\n",
    "            vector.append(0)\n",
    "    vector = np.array(vector)\n",
    "    result = Tables(uid, vector)\n",
    "    return result\n",
    "\n",
    "table = Parallel(n_jobs=len(usable_cores))(delayed(table_loop)(uid) for uid in unique_id)"
   ]
  },
  {
   "cell_type": "code",
   "execution_count": 7,
   "id": "bacterial-location",
   "metadata": {},
   "outputs": [
    {
     "data": {
      "text/plain": [
       "{'uid': 259, 'vector': array([1, 1, 1, ..., 0, 0, 0])}"
      ]
     },
     "execution_count": 7,
     "metadata": {},
     "output_type": "execute_result"
    }
   ],
   "source": [
    "table[0].__dict__"
   ]
  },
  {
   "cell_type": "code",
   "execution_count": null,
   "id": "satellite-adapter",
   "metadata": {},
   "outputs": [],
   "source": [
    "# Now find top k similar users for each user in testing dataset\n",
    "ks = [1, 5, 10, 15]\n",
    "def predict_loop(uid, movie, score):\n",
    "    # make sure test user is in train user list\n",
    "    if uid in unique_id:\n",
    "        usr_vector = [x for x in table if x.uid == uid][0].vector\n",
    "        # rank all users in training set by similarity\n",
    "        other_usrs = {}\n",
    "        for train_uid in unique_id:\n",
    "            # check if the training user has seen this movie\n",
    "            check = df_train.loc[(df_train['user_id'] == train_uid) & (df_train['movie_id'] == movie)]\n",
    "            if train_uid != uid and len(check) > 0:\n",
    "                train_uid_vector = [x for x in table if x.uid == train_uid][0].vector\n",
    "                other_usrs[train_uid] = np.dot(usr_vector,train_uid_vector)\n",
    "        if len(other_usrs) == 0:\n",
    "            # no user in training set has seen this movie, skip\n",
    "            return\n",
    "        other_usrs = dict(sorted(other_usrs.items(), key=lambda item: item[1], reverse=True))\n",
    "        similar_usrs = list(other_usrs.keys())#[:ks[-1]]\n",
    "        other_scores = []\n",
    "        for similar_usr in similar_usrs:\n",
    "            rating = df_train.loc[(df_train['user_id'] == similar_usr) & \n",
    "                                  (df_train['movie_id'] == movie)]['rating'].iloc[0]\n",
    "            other_scores.append(rating)\n",
    "        result = []\n",
    "        for k in ks:\n",
    "            mad = MADs(k, abs(np.mean(other_scores[:k]) - score)) # predict the score to be mean of similar users\n",
    "            result.append(mad)\n",
    "        naive_mad = MADs('naive', abs(np.mean(other_scores) - score))\n",
    "        result.append(naive_mad)\n",
    "        print(f'done {uid}, {movie}')\n",
    "        return result\n",
    "    else:\n",
    "        # user has no history, cannot recommend, skip user\n",
    "        return\n",
    "\n",
    "#for uid, movie, score in zip(df_test['user_id'], df_test['movie_id'], df_test['rating']):\n",
    "predictions = Parallel(n_jobs=len(usable_cores))(delayed(predict_loop)(uid, movie, score) for uid, \n",
    "                movie, score in zip(df_test['user_id'], df_test['movie_id'], df_test['rating']))"
   ]
  },
  {
   "cell_type": "code",
   "execution_count": 31,
   "id": "boring-journalism",
   "metadata": {},
   "outputs": [
    {
     "data": {
      "text/plain": [
       "{'k': 'naive', 'value': 1.3569844789356988}"
      ]
     },
     "execution_count": 31,
     "metadata": {},
     "output_type": "execute_result"
    }
   ],
   "source": [
    "valid_pred = [x for x in predictions if x is not None]\n",
    "valid_pred[0][4].__dict__"
   ]
  },
  {
   "cell_type": "code",
   "execution_count": 32,
   "id": "lightweight-invention",
   "metadata": {},
   "outputs": [],
   "source": [
    "all_mads = {}\n",
    "ks = [1, 5, 10, 15, 'naive']\n",
    "for k in ks:\n",
    "    all_mads[k] = []\n",
    "    k_ind = ks.index(k)\n",
    "    for pred in valid_pred:\n",
    "        all_mads[k].append(pred[k_ind].value)\n",
    "    all_mads[k] = np.mean(all_mads[k])"
   ]
  },
  {
   "cell_type": "code",
   "execution_count": 33,
   "id": "cross-listening",
   "metadata": {},
   "outputs": [
    {
     "data": {
      "text/plain": [
       "{1: 0.9505998588567396,\n",
       " 2: 0.8976711362032463,\n",
       " 4: 0.8547596643926919,\n",
       " 8: 0.8338444175600139,\n",
       " 'naive': 0.836297880709933}"
      ]
     },
     "execution_count": 33,
     "metadata": {},
     "output_type": "execute_result"
    }
   ],
   "source": [
    "# now implement the naive scheme\n",
    "all_mads"
   ]
  },
  {
   "cell_type": "code",
   "execution_count": null,
   "id": "acceptable-terminal",
   "metadata": {},
   "outputs": [],
   "source": [
    "fig, axs = plt.subplots(1, 1, gridspec_kw={'hspace': 0.1, 'wspace': 0.2, 'bottom': 0.13, \n",
    "                                           'top': 0.9, 'right':0.995, 'left':0.17}, figsize=(5,3))\n",
    "x = np.arange(len(ks))\n",
    "axs.bar(x, list(all_mads.values()), 0.35)\n",
    "axs.set_ylabel('MAD value', fontsize=14)\n",
    "axs.set_xticks(x)\n",
    "axs.set_xticklabels(ks, fontsize=14)\n",
    "axs.grid(which='major', axis='both', ls='dashed')\n",
    "fig.savefig(f'plots/p6_1.png', bbox_inches='tight')"
   ]
  }
 ],
 "metadata": {
  "kernelspec": {
   "display_name": "Python 3",
   "language": "python",
   "name": "python3"
  },
  "language_info": {
   "codemirror_mode": {
    "name": "ipython",
    "version": 3
   },
   "file_extension": ".py",
   "mimetype": "text/x-python",
   "name": "python",
   "nbconvert_exporter": "python",
   "pygments_lexer": "ipython3",
   "version": "3.7.9"
  }
 },
 "nbformat": 4,
 "nbformat_minor": 5
}
