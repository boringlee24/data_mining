{
 "cells": [
  {
   "cell_type": "code",
   "execution_count": 1,
   "id": "inclusive-router",
   "metadata": {},
   "outputs": [],
   "source": [
    "%matplotlib inline\n",
    "import numpy as np\n",
    "import pdb\n",
    "import matplotlib.pyplot as plt\n",
    "import glob\n",
    "from matplotlib.ticker import MultipleLocator\n",
    "from sklearn.model_selection import train_test_split\n",
    "import sklearn.datasets as datasets\n",
    "from sklearn.tree import DecisionTreeClassifier\n",
    "from sklearn import tree\n",
    "import copy\n",
    "np.random.seed(0)"
   ]
  },
  {
   "cell_type": "code",
   "execution_count": 2,
   "id": "moral-valuable",
   "metadata": {},
   "outputs": [
    {
     "name": "stdout",
     "output_type": "stream",
     "text": [
      "train_acc: 98.66666666666667%, test_acc: 96.0%\n"
     ]
    }
   ],
   "source": [
    "###### part (a) Iris dataset\n",
    "iris = datasets.load_iris()\n",
    "X = iris.data\n",
    "Y = iris.target\n",
    "X_train, X_test, Y_train, Y_test = train_test_split(X, Y, test_size=0.5, random_state=0)\n",
    "clf = DecisionTreeClassifier(criterion='gini', splitter='best', max_depth=3, random_state=0)\n",
    "clf = clf.fit(X_train, Y_train)\n",
    "# get test accuracy\n",
    "#pdb.set_trace()\n",
    "predict = clf.predict(X_train)\n",
    "train_acc = np.count_nonzero(predict==Y_train) / len(Y_train) * 100\n",
    "predict = clf.predict(X_test)\n",
    "val_acc = np.count_nonzero(predict==Y_test) / len(Y_test) * 100\n",
    "print(f'train_acc: {train_acc}%, test_acc: {val_acc}%')"
   ]
  },
  {
   "cell_type": "code",
   "execution_count": 3,
   "id": "apparent-practitioner",
   "metadata": {},
   "outputs": [
    {
     "data": {
      "text/plain": [
       "[Text(133.92000000000002, 190.26, 'X[3] <= 0.75\\ngini = 0.659\\nsamples = 75\\nvalue = [29, 20, 26]'),\n",
       " Text(66.96000000000001, 135.9, 'gini = 0.0\\nsamples = 29\\nvalue = [29, 0, 0]'),\n",
       " Text(200.88000000000002, 135.9, 'X[2] <= 5.05\\ngini = 0.491\\nsamples = 46\\nvalue = [0, 20, 26]'),\n",
       " Text(133.92000000000002, 81.53999999999999, 'X[3] <= 1.75\\ngini = 0.165\\nsamples = 22\\nvalue = [0, 20, 2]'),\n",
       " Text(66.96000000000001, 27.180000000000007, 'gini = 0.0\\nsamples = 19\\nvalue = [0, 19, 0]'),\n",
       " Text(200.88000000000002, 27.180000000000007, 'gini = 0.444\\nsamples = 3\\nvalue = [0, 1, 2]'),\n",
       " Text(267.84000000000003, 81.53999999999999, 'gini = 0.0\\nsamples = 24\\nvalue = [0, 0, 24]')]"
      ]
     },
     "execution_count": 3,
     "metadata": {},
     "output_type": "execute_result"
    },
    {
     "data": {
      "image/png": "[encoded data removed]",
      "text/plain": [
       "<Figure size 432x288 with 1 Axes>"
      ]
     },
     "metadata": {
      "needs_background": "light"
     },
     "output_type": "display_data"
    }
   ],
   "source": [
    "tree.plot_tree(clf)"
   ]
  },
  {
   "cell_type": "code",
   "execution_count": 4,
   "id": "least-arrow",
   "metadata": {},
   "outputs": [
    {
     "name": "stdout",
     "output_type": "stream",
     "text": [
      "train accuracy mean: 77.52%, stdev: 23.731101018611756%\n",
      "test accuracy mean: 68.88%, stdev: 26.658145305161632%\n"
     ]
    }
   ],
   "source": [
    "# randomly alternate a split\n",
    "n_nodes = clf.tree_.node_count\n",
    "children_left = clf.tree_.children_left\n",
    "children_right = clf.tree_.children_right\n",
    "feature = clf.tree_.feature\n",
    "threshold = clf.tree_.threshold\n",
    "non_leaf = np.where(children_left != -1)[0] # index of node that is not a leaf\n",
    "all_features = np.arange(len(X_train[0])-1)+1\n",
    "feature_range = []\n",
    "for i in range(len(X_train[0])-1):\n",
    "    minimum = min(X_train[:,i])\n",
    "    maximum = max(X_train[:,i])\n",
    "    feature_range.append([minimum,maximum])\n",
    "test_acc = []\n",
    "train_acc = []\n",
    "for i in range(100):\n",
    "    clf_cpy = copy.deepcopy(clf)\n",
    "    # first select split node\n",
    "    node = np.random.choice(non_leaf)\n",
    "    sel_feature = np.random.choice(all_features)\n",
    "    rand_range = feature_range[sel_feature-1]\n",
    "    new_split = round(np.random.uniform(rand_range[0], rand_range[1]),2)\n",
    "    # modify the tree\n",
    "    clf_cpy.tree_.feature[node] = sel_feature\n",
    "    clf_cpy.tree_.threshold[node] = new_split\n",
    "    \n",
    "    predict = clf_cpy.predict(X_train)\n",
    "    acc = np.count_nonzero(predict==Y_train) / len(Y_train) * 100\n",
    "    train_acc.append(acc)\n",
    "    \n",
    "    predict = clf_cpy.predict(X_test)\n",
    "    acc = np.count_nonzero(predict==Y_test) / len(Y_test) * 100\n",
    "    test_acc.append(acc)\n",
    "train_mean = np.mean(train_acc) \n",
    "train_stdev = np.std(train_acc)\n",
    "test_mean = np.mean(test_acc) \n",
    "test_stdev = np.std(test_acc)\n",
    "print(f'train accuracy mean: {train_mean}%, stdev: {train_stdev}%')\n",
    "print(f'test accuracy mean: {test_mean}%, stdev: {test_stdev}%')"
   ]
  },
  {
   "cell_type": "code",
   "execution_count": null,
   "id": "equal-knowing",
   "metadata": {},
   "outputs": [],
   "source": []
  },
  {
   "cell_type": "code",
   "execution_count": null,
   "id": "dimensional-mixture",
   "metadata": {},
   "outputs": [],
   "source": []
  }
 ],
 "metadata": {
  "kernelspec": {
   "display_name": "Python 3",
   "language": "python",
   "name": "python3"
  },
  "language_info": {
   "codemirror_mode": {
    "name": "ipython",
    "version": 3
   },
   "file_extension": ".py",
   "mimetype": "text/x-python",
   "name": "python",
   "nbconvert_exporter": "python",
   "pygments_lexer": "ipython3",
   "version": "3.7.9"
  }
 },
 "nbformat": 4,
 "nbformat_minor": 5
}
