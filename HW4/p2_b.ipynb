{
 "cells": [
  {
   "cell_type": "code",
   "execution_count": 1,
   "id": "inclusive-router",
   "metadata": {},
   "outputs": [],
   "source": [
    "%matplotlib inline\n",
    "import numpy as np\n",
    "import pdb\n",
    "import matplotlib.pyplot as plt\n",
    "import glob\n",
    "from matplotlib.ticker import MultipleLocator\n",
    "from sklearn.model_selection import train_test_split\n",
    "import sklearn.datasets as datasets\n",
    "import copy\n",
    "from sklearn.metrics import mean_squared_error\n",
    "import warnings\n",
    "from sklearn.exceptions import ConvergenceWarning\n",
    "from sklearn import preprocessing\n",
    "from sklearn.decomposition import PCA\n",
    "np.random.seed(0)"
   ]
  },
  {
   "cell_type": "code",
   "execution_count": 2,
   "id": "moral-valuable",
   "metadata": {},
   "outputs": [
    {
     "data": {
      "text/plain": [
       "((569, 30), (569, 30))"
      ]
     },
     "execution_count": 2,
     "metadata": {},
     "output_type": "execute_result"
    }
   ],
   "source": [
    "###### handwritten digits dataset ######\n",
    "digits = datasets.load_breast_cancer()\n",
    "X = digits.data\n",
    "X_scale = preprocessing.scale(X, with_mean=True, with_std=False)\n",
    "X.shape, X_scale.shape"
   ]
  },
  {
   "cell_type": "code",
   "execution_count": 3,
   "id": "clean-train",
   "metadata": {},
   "outputs": [
    {
     "data": {
      "text/plain": [
       "(569, 2)"
      ]
     },
     "execution_count": 3,
     "metadata": {},
     "output_type": "execute_result"
    }
   ],
   "source": [
    "pca = PCA(n_components=2)\n",
    "X1 = copy.deepcopy(X_scale)\n",
    "X1 = pca.fit_transform(X1)\n",
    "\n",
    "X1.shape"
   ]
  },
  {
   "cell_type": "code",
   "execution_count": 4,
   "id": "resistant-symphony",
   "metadata": {},
   "outputs": [
    {
     "data": {
      "text/plain": [
       "(10, 2)"
      ]
     },
     "execution_count": 4,
     "metadata": {},
     "output_type": "execute_result"
    }
   ],
   "source": [
    "X1[:10,:].shape"
   ]
  },
  {
   "cell_type": "code",
   "execution_count": 5,
   "id": "cordless-duration",
   "metadata": {},
   "outputs": [],
   "source": [
    "# X2 = copy.deepcopy(X) # non-zero mean sparse matrix\n",
    "num_n, num_d = X.shape\n",
    "X_bar = np.zeros((1,num_d))\n",
    "for row in X:\n",
    "    X_bar += row\n",
    "X_bar = X_bar / num_n\n",
    "one = np.ones((num_n,1))\n",
    "# pdb.set_trace()\n",
    "XT = np.transpose(X)\n",
    "X_barT = np.transpose(X_bar)\n",
    "oneT = np.transpose(one)\n",
    "cov = np.matmul(XT,X) - np.matmul(np.matmul(XT,one),X_bar) - \\\n",
    "        np.matmul(X_barT,np.matmul(oneT,X)) + num_n * np.matmul(X_barT,X_bar)\n",
    "cov = cov / num_n\n",
    "# now do eigenvalue decomp\n",
    "value, vector = np.linalg.eig(cov)\n",
    "# X2[:10,:].shape"
   ]
  },
  {
   "cell_type": "code",
   "execution_count": 6,
   "id": "selective-claim",
   "metadata": {},
   "outputs": [
    {
     "data": {
      "text/plain": [
       "((30, 2), (30, 30))"
      ]
     },
     "execution_count": 6,
     "metadata": {},
     "output_type": "execute_result"
    }
   ],
   "source": [
    "index = value.argsort()[::-1][:2]\n",
    "principle = vector[:,index]\n",
    "principle.shape, vector.shape"
   ]
  },
  {
   "cell_type": "code",
   "execution_count": 7,
   "id": "previous-boost",
   "metadata": {},
   "outputs": [
    {
     "data": {
      "text/plain": [
       "True"
      ]
     },
     "execution_count": 7,
     "metadata": {},
     "output_type": "execute_result"
    }
   ],
   "source": [
    "new_val, new_vec = np.linalg.eig(np.matmul(np.transpose(X_scale), X_scale))\n",
    "np.allclose(new_vec[:, 1], vector[:, 1])"
   ]
  },
  {
   "cell_type": "code",
   "execution_count": 11,
   "id": "floppy-great",
   "metadata": {},
   "outputs": [],
   "source": [
    "left = X1[:10,:]\n",
    "right = np.matmul(X[:10,:], principle)\n",
    "# right = right*[-1,1] # go reverse direction"
   ]
  },
  {
   "cell_type": "code",
   "execution_count": 12,
   "id": "legitimate-prototype",
   "metadata": {},
   "outputs": [
    {
     "data": {
      "image/png": "[encoded data removed]",
      "text/plain": [
       "<Figure size 648x216 with 2 Axes>"
      ]
     },
     "metadata": {
      "needs_background": "light"
     },
     "output_type": "display_data"
    }
   ],
   "source": [
    "fig, axs = plt.subplots(1, 2, gridspec_kw={'hspace': 0.1, 'wspace': 0.2, 'bottom': 0.13, \n",
    "                                    'top': 0.9, 'right':0.995, 'left':0.17}, figsize=(9,3))\n",
    "\n",
    "axs[0].scatter(left[:, 0], left[:, 1], label='PCA Library', marker='o', \n",
    "               s=100, edgecolor='black', color='orangered')\n",
    "axs[1].scatter(right[:, 0], right[:, 1], label='Custom PCA', marker='^', \n",
    "               s=100, edgecolor='black', color='dodgerblue')\n",
    "\n",
    "for ax in axs:\n",
    "    ax.grid(which='major', axis='both', ls='dashed', zorder=0)\n",
    "    ax.set_xlabel('Dimension 1')\n",
    "    ax.legend()\n",
    "# axs[0].set_title('Training Acc.')\n",
    "# axs[1].set_title('Testing Acc.')\n",
    "axs[0].set_ylabel('Dimension 2')\n",
    "fig.savefig(f'plots/p2_b.png', bbox_inches='tight')"
   ]
  },
  {
   "cell_type": "code",
   "execution_count": null,
   "id": "soviet-maker",
   "metadata": {},
   "outputs": [],
   "source": []
  }
 ],
 "metadata": {
  "kernelspec": {
   "display_name": "Python 3",
   "language": "python",
   "name": "python3"
  },
  "language_info": {
   "codemirror_mode": {
    "name": "ipython",
    "version": 3
   },
   "file_extension": ".py",
   "mimetype": "text/x-python",
   "name": "python",
   "nbconvert_exporter": "python",
   "pygments_lexer": "ipython3",
   "version": "3.7.9"
  }
 },
 "nbformat": 4,
 "nbformat_minor": 5
}
