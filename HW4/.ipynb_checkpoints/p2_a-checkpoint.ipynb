{
 "cells": [
  {
   "cell_type": "code",
   "execution_count": 1,
   "id": "inclusive-router",
   "metadata": {},
   "outputs": [],
   "source": [
    "%matplotlib inline\n",
    "import numpy as np\n",
    "import pdb\n",
    "import matplotlib.pyplot as plt\n",
    "import glob\n",
    "from matplotlib.ticker import MultipleLocator\n",
    "from sklearn.model_selection import train_test_split\n",
    "import sklearn.datasets as datasets\n",
    "import copy\n",
    "from sklearn.metrics import mean_squared_error\n",
    "import warnings\n",
    "from sklearn.exceptions import ConvergenceWarning\n",
    "from sklearn import preprocessing\n",
    "from sklearn.decomposition import PCA\n",
    "np.random.seed(0)"
   ]
  },
  {
   "cell_type": "code",
   "execution_count": 2,
   "id": "moral-valuable",
   "metadata": {},
   "outputs": [
    {
     "data": {
      "text/plain": [
       "((569, 30), (569, 30))"
      ]
     },
     "execution_count": 2,
     "metadata": {},
     "output_type": "execute_result"
    }
   ],
   "source": [
    "###### handwritten digits dataset ######\n",
    "digits = datasets.load_breast_cancer()\n",
    "X = digits.data\n",
    "X_scale = preprocessing.scale(X, with_mean=True, with_std=False)\n",
    "X.shape, X_scale.shape"
   ]
  },
  {
   "cell_type": "code",
   "execution_count": 3,
   "id": "clean-train",
   "metadata": {},
   "outputs": [
    {
     "data": {
      "text/plain": [
       "(569, 2)"
      ]
     },
     "execution_count": 3,
     "metadata": {},
     "output_type": "execute_result"
    }
   ],
   "source": [
    "pca = PCA(n_components=2)\n",
    "X1 = copy.deepcopy(X_scale)\n",
    "X1 = pca.fit_transform(X1)\n",
    "\n",
    "X1.shape"
   ]
  },
  {
   "cell_type": "code",
   "execution_count": 4,
   "id": "resistant-symphony",
   "metadata": {},
   "outputs": [
    {
     "data": {
      "text/plain": [
       "(10, 2)"
      ]
     },
     "execution_count": 4,
     "metadata": {},
     "output_type": "execute_result"
    }
   ],
   "source": [
    "X1[:10,:].shape"
   ]
  },
  {
   "cell_type": "code",
   "execution_count": 32,
   "id": "cordless-duration",
   "metadata": {},
   "outputs": [
    {
     "data": {
      "text/plain": [
       "(569, 2)"
      ]
     },
     "execution_count": 32,
     "metadata": {},
     "output_type": "execute_result"
    }
   ],
   "source": [
    "X2 = copy.deepcopy(X_scale)\n",
    "u, s, vt = np.linalg.svd(X2, full_matrices=True)\n",
    "np.allclose(X2, np.dot(u[:, :30] * s, vt))\n",
    "X2 = u[:, :30] * s\n",
    "X2 = X2[:, :2]\n",
    "X2.shape\n",
    "# X2[:10,:].shape"
   ]
  },
  {
   "cell_type": "code",
   "execution_count": 38,
   "id": "floppy-great",
   "metadata": {},
   "outputs": [
    {
     "data": {
      "text/plain": [
       "(array([[1160.1425737 , -293.91754364],\n",
       "        [1269.12244319,   15.63018184],\n",
       "        [ 995.79388896,   39.15674324],\n",
       "        [-407.18080253,  -67.38031982],\n",
       "        [ 930.34118015,  189.34074158],\n",
       "        [-211.59125901,  -79.87744626],\n",
       "        [ 821.21089989,  -47.14966994],\n",
       "        [ -25.08997758,  -74.18601461],\n",
       "        [-191.29283443,  -42.12648962],\n",
       "        [-238.29286318,  -65.38650692]]),\n",
       " array([[1160.1425737 , -293.91754364],\n",
       "        [1269.12244319,   15.63018184],\n",
       "        [ 995.79388896,   39.15674324],\n",
       "        [-407.18080253,  -67.38031982],\n",
       "        [ 930.34118015,  189.34074158],\n",
       "        [-211.59125901,  -79.87744626],\n",
       "        [ 821.21089989,  -47.14966994],\n",
       "        [ -25.08997758,  -74.18601461],\n",
       "        [-191.29283443,  -42.12648962],\n",
       "        [-238.29286318,  -65.38650692]]))"
      ]
     },
     "execution_count": 38,
     "metadata": {},
     "output_type": "execute_result"
    }
   ],
   "source": [
    "left = X1[:10,:]\n",
    "right = X2[:10,:]\n",
    "\n",
    "right = right*[-1,1] # go reverse direction\n"
   ]
  },
  {
   "cell_type": "code",
   "execution_count": 44,
   "id": "legitimate-prototype",
   "metadata": {},
   "outputs": [
    {
     "data": {
      "image/png": "[encoded data removed]",
      "text/plain": [
       "<Figure size 648x216 with 2 Axes>"
      ]
     },
     "metadata": {
      "needs_background": "light"
     },
     "output_type": "display_data"
    }
   ],
   "source": [
    "fig, axs = plt.subplots(1, 2, gridspec_kw={'hspace': 0.1, 'wspace': 0.2, 'bottom': 0.13, \n",
    "                                    'top': 0.9, 'right':0.995, 'left':0.17}, figsize=(9,3))\n",
    "\n",
    "axs[0].scatter(left[:, 0], left[:, 1], label='PCA Library', marker='o', \n",
    "               s=100, edgecolor='black', color='orangered')\n",
    "axs[1].scatter(right[:, 0], right[:, 1], label='Custom PCA', marker='^', \n",
    "               s=100, edgecolor='black', color='dodgerblue')\n",
    "\n",
    "for ax in axs:\n",
    "    ax.grid(which='major', axis='both', ls='dashed', zorder=0)\n",
    "    ax.set_xlabel('Dimension 1')\n",
    "    ax.legend()\n",
    "# axs[0].set_title('Training Acc.')\n",
    "# axs[1].set_title('Testing Acc.')\n",
    "axs[0].set_ylabel('Dimension 2')\n",
    "fig.savefig(f'plots/p2_a.png', bbox_inches='tight')"
   ]
  },
  {
   "cell_type": "code",
   "execution_count": null,
   "id": "soviet-maker",
   "metadata": {},
   "outputs": [],
   "source": []
  }
 ],
 "metadata": {
  "kernelspec": {
   "display_name": "Python 3",
   "language": "python",
   "name": "python3"
  },
  "language_info": {
   "codemirror_mode": {
    "name": "ipython",
    "version": 3
   },
   "file_extension": ".py",
   "mimetype": "text/x-python",
   "name": "python",
   "nbconvert_exporter": "python",
   "pygments_lexer": "ipython3",
   "version": "3.7.9"
  }
 },
 "nbformat": 4,
 "nbformat_minor": 5
}
